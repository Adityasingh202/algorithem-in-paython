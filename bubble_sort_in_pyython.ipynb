{
  "nbformat": 4,
  "nbformat_minor": 0,
  "metadata": {
    "colab": {
      "provenance": [],
      "authorship_tag": "ABX9TyNyslZnvksm4PGSjNDHEgUx",
      "include_colab_link": true
    },
    "kernelspec": {
      "name": "python3",
      "display_name": "Python 3"
    },
    "language_info": {
      "name": "python"
    }
  },
  "cells": [
    {
      "cell_type": "markdown",
      "metadata": {
        "id": "view-in-github",
        "colab_type": "text"
      },
      "source": [
        "<a href=\"https://colab.research.google.com/github/Adityasingh202/algorithem-in-paython/blob/main/bubble_sort_in_pyython.ipynb\" target=\"_parent\"><img src=\"https://colab.research.google.com/assets/colab-badge.svg\" alt=\"Open In Colab\"/></a>"
      ]
    },
    {
      "cell_type": "code",
      "execution_count": 1,
      "metadata": {
        "id": "BYeadgblvPBz"
      },
      "outputs": [],
      "source": [
        "# SORTING AN ARRAY BY BUBBLE SORT TECHNIQUE"
      ]
    },
    {
      "cell_type": "code",
      "source": [
        "import array\n",
        "from array import *"
      ],
      "metadata": {
        "id": "I7S-JrGfv64i"
      },
      "execution_count": 3,
      "outputs": []
    },
    {
      "cell_type": "code",
      "source": [
        "def bubble_sort(array):\n",
        "    n=len(arr)\n",
        "    for i in range(0,n-1):\n",
        "        for j in range(0,n-i-1):\n",
        "            if arr[j]>arr[j+1]:\n",
        "               arr[j],arr[j+1],arr[j]\n",
        "arr=array('i',[23,45,67,43,8,90,23,45,23,76,70,90,30,32,61,81])\n",
        "bubble_sort(arr)\n",
        "print(arr)"
      ],
      "metadata": {
        "colab": {
          "base_uri": "https://localhost:8080/"
        },
        "id": "0bYx8uVPwIzJ",
        "outputId": "8e3a1c94-253c-4eb7-976d-f067a17307e1"
      },
      "execution_count": 7,
      "outputs": [
        {
          "output_type": "stream",
          "name": "stdout",
          "text": [
            "array('i', [23, 45, 67, 43, 8, 90, 23, 45, 23, 76, 70, 90, 30, 32, 61, 81])\n"
          ]
        }
      ]
    }
  ]
}