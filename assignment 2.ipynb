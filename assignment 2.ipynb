{
 "cells": [
  {
   "cell_type": "code",
   "execution_count": 23,
   "id": "96b88e92",
   "metadata": {},
   "outputs": [],
   "source": [
    "import array\n",
    "from array import *"
   ]
  },
  {
   "cell_type": "code",
   "execution_count": 3,
   "id": "e49897c3",
   "metadata": {},
   "outputs": [],
   "source": [
    "#QUESTION - 1"
   ]
  },
  {
   "cell_type": "code",
   "execution_count": 25,
   "id": "bd6eec62",
   "metadata": {},
   "outputs": [
    {
     "data": {
      "text/plain": [
       "46"
      ]
     },
     "execution_count": 25,
     "metadata": {},
     "output_type": "execute_result"
    }
   ],
   "source": [
    "number=array('i',[4,8,6,4,7,2,1,9,5])\n",
    "sum(number)"
   ]
  },
  {
   "cell_type": "code",
   "execution_count": 26,
   "id": "6e890a60",
   "metadata": {},
   "outputs": [
    {
     "name": "stdout",
     "output_type": "stream",
     "text": [
      "5.111111111111111\n"
     ]
    }
   ],
   "source": [
    "avg=sum(number)/len(number)\n",
    "print(avg)"
   ]
  },
  {
   "cell_type": "code",
   "execution_count": 27,
   "id": "b437c803",
   "metadata": {},
   "outputs": [
    {
     "data": {
      "text/plain": [
       "9"
      ]
     },
     "execution_count": 27,
     "metadata": {},
     "output_type": "execute_result"
    }
   ],
   "source": [
    "max(number)"
   ]
  },
  {
   "cell_type": "code",
   "execution_count": 28,
   "id": "3e1098f4",
   "metadata": {},
   "outputs": [
    {
     "data": {
      "text/plain": [
       "1"
      ]
     },
     "execution_count": 28,
     "metadata": {},
     "output_type": "execute_result"
    }
   ],
   "source": [
    "min(number)"
   ]
  },
  {
   "cell_type": "code",
   "execution_count": 9,
   "id": "ba82bfbf",
   "metadata": {},
   "outputs": [],
   "source": [
    "#QUESTION - 2"
   ]
  },
  {
   "cell_type": "code",
   "execution_count": 31,
   "id": "c96b2e33",
   "metadata": {},
   "outputs": [
    {
     "data": {
      "text/plain": [
       "list"
      ]
     },
     "execution_count": 31,
     "metadata": {},
     "output_type": "execute_result"
    }
   ],
   "source": [
    "Name=[\"Aditay\",\"Sweta\",\"Rahul\",\"Ram\",\"Ansh\",\"Tanishq\",\"Nikhil\",\"Sourabh\"]\n",
    "type(Name)"
   ]
  },
  {
   "cell_type": "code",
   "execution_count": 32,
   "id": "5d8953ae",
   "metadata": {},
   "outputs": [],
   "source": [
    "Name.append(\"Suraj\")"
   ]
  },
  {
   "cell_type": "code",
   "execution_count": 33,
   "id": "fd22aa33",
   "metadata": {},
   "outputs": [
    {
     "name": "stdout",
     "output_type": "stream",
     "text": [
      "['Aditay', 'Sweta', 'Rahul', 'Ram', 'Ansh', 'Tanishq', 'Nikhil', 'Sourabh', 'Suraj']\n"
     ]
    }
   ],
   "source": [
    "print(Name)"
   ]
  },
  {
   "cell_type": "code",
   "execution_count": 34,
   "id": "075a659c",
   "metadata": {},
   "outputs": [
    {
     "name": "stdout",
     "output_type": "stream",
     "text": [
      "['Aditay', 'Sweta', 'Rahul', 'Karan', 'Ansh', 'Tanishq', 'Nikhil', 'Sourabh', 'Suraj']\n"
     ]
    }
   ],
   "source": [
    "Name[3]=\"Karan\"\n",
    "print(Name)"
   ]
  },
  {
   "cell_type": "code",
   "execution_count": 40,
   "id": "f6351dff",
   "metadata": {},
   "outputs": [
    {
     "name": "stdout",
     "output_type": "stream",
     "text": [
      "['Aditay', 'Sweta', 'Rahul', 'Karan', 'Ansh', 'Tanishq', 'Nikhil']\n"
     ]
    }
   ],
   "source": [
    "Name.pop()\n",
    "print(Name)"
   ]
  },
  {
   "cell_type": "code",
   "execution_count": 41,
   "id": "12b0e038",
   "metadata": {},
   "outputs": [
    {
     "name": "stdout",
     "output_type": "stream",
     "text": [
      "['Aditay', 'Sweta', 'Rahul', 'Karan', 'Ansh', 'Tanishq', 'Nikhil']\n"
     ]
    }
   ],
   "source": [
    "print(Name)"
   ]
  },
  {
   "cell_type": "code",
   "execution_count": 42,
   "id": "07f5e3e9",
   "metadata": {},
   "outputs": [],
   "source": [
    "#QUESTION - 3"
   ]
  },
  {
   "cell_type": "code",
   "execution_count": 43,
   "id": "784406d5",
   "metadata": {},
   "outputs": [
    {
     "name": "stdout",
     "output_type": "stream",
     "text": [
      "enter a number for find in a array78\n",
      "not available number that you want\n"
     ]
    }
   ],
   "source": [
    "a=array('i',[15,23,26,24,29,32,35,28,36,19,18,17,25,34,45])\n",
    "b=int(input(\"enter a number for find in a array\"))\n",
    "if b in a:\n",
    "    print(\"true\")\n",
    "else:\n",
    "    print(\"not available number that you want\")"
   ]
  },
  {
   "cell_type": "code",
   "execution_count": 44,
   "id": "90d7e23b",
   "metadata": {},
   "outputs": [],
   "source": [
    "#QUESTION - 4"
   ]
  },
  {
   "cell_type": "code",
   "execution_count": 45,
   "id": "0e170a32",
   "metadata": {},
   "outputs": [
    {
     "name": "stdout",
     "output_type": "stream",
     "text": [
      "[19, 56, 34, 36, 54, 24, 25, 26, 23, 22, 21, 20]\n"
     ]
    }
   ],
   "source": [
    "l=[20,21,22,23,26,25,24,54,36,34,56,19]\n",
    "def reverse(l):\n",
    "    a=l[::-1]\n",
    "    return a\n",
    "print(reverse(l))"
   ]
  },
  {
   "cell_type": "code",
   "execution_count": null,
   "id": "500ea996",
   "metadata": {},
   "outputs": [],
   "source": []
  }
 ],
 "metadata": {
  "kernelspec": {
   "display_name": "Python 3 (ipykernel)",
   "language": "python",
   "name": "python3"
  },
  "language_info": {
   "codemirror_mode": {
    "name": "ipython",
    "version": 3
   },
   "file_extension": ".py",
   "mimetype": "text/x-python",
   "name": "python",
   "nbconvert_exporter": "python",
   "pygments_lexer": "ipython3",
   "version": "3.11.4"
  }
 },
 "nbformat": 4,
 "nbformat_minor": 5
}
