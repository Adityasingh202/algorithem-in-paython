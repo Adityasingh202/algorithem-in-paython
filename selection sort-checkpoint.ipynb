{
 "cells": [
  {
   "cell_type": "code",
   "execution_count": 1,
   "id": "005f3f63",
   "metadata": {},
   "outputs": [],
   "source": [
    "import array\n",
    "from array import *"
   ]
  },
  {
   "cell_type": "code",
   "execution_count": 2,
   "id": "6442ab7a",
   "metadata": {},
   "outputs": [
    {
     "name": "stdout",
     "output_type": "stream",
     "text": [
      "array('i', [34, 34, 42, 45, 46, 54, 67, 67, 87, 87, 89])\n"
     ]
    }
   ],
   "source": [
    "#selection sorting method\n",
    "def selection_sort(array):\n",
    "    n=len(arr)\n",
    "    for i in range (0,n-1):\n",
    "        min_value = i\n",
    "        for j in range (i+1,n):\n",
    "            if arr[min_value]>arr[j]:\n",
    "                min_value = j\n",
    "        arr[i],arr[min_value] = arr[min_value],arr[i]\n",
    "arr = array('i',[45,34,67,89,54,34,67,87,42,46,87])\n",
    "selection_sort(arr)\n",
    "print(arr)"
   ]
  },
  {
   "cell_type": "code",
   "execution_count": null,
   "id": "80243759",
   "metadata": {},
   "outputs": [],
   "source": []
  }
 ],
 "metadata": {
  "kernelspec": {
   "display_name": "Python 3 (ipykernel)",
   "language": "python",
   "name": "python3"
  },
  "language_info": {
   "codemirror_mode": {
    "name": "ipython",
    "version": 3
   },
   "file_extension": ".py",
   "mimetype": "text/x-python",
   "name": "python",
   "nbconvert_exporter": "python",
   "pygments_lexer": "ipython3",
   "version": "3.11.4"
  }
 },
 "nbformat": 4,
 "nbformat_minor": 5
}
