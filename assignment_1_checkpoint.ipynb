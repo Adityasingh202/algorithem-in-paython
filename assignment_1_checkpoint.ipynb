{
  "cells": [
    {
      "cell_type": "markdown",
      "metadata": {
        "id": "view-in-github",
        "colab_type": "text"
      },
      "source": [
        "<a href=\"https://colab.research.google.com/github/Adityasingh202/algorithem-in-paython/blob/main/assignment_1_checkpoint.ipynb\" target=\"_parent\"><img src=\"https://colab.research.google.com/assets/colab-badge.svg\" alt=\"Open In Colab\"/></a>"
      ]
    },
    {
      "cell_type": "code",
      "execution_count": 1,
      "id": "2582ef94",
      "metadata": {
        "colab": {
          "base_uri": "https://localhost:8080/"
        },
        "id": "2582ef94",
        "outputId": "62369863-3915-4ebd-e214-97e12bc6ecf4"
      },
      "outputs": [
        {
          "output_type": "stream",
          "name": "stdout",
          "text": [
            "enter marks100\n",
            "enter marks80\n",
            "enter marks57\n",
            "enter marks72\n",
            "enter marks90\n",
            "399\n",
            "327.0\n"
          ]
        }
      ],
      "source": [
        "#sum and average\n",
        "a=int(input(\"enter marks\"))\n",
        "b=int(input(\"enter marks\"))\n",
        "c=int(input(\"enter marks\"))\n",
        "d=int(input(\"enter marks\"))\n",
        "e=int(input(\"enter marks\"))\n",
        "sum=a+b+c+d+e\n",
        "average=a+b+c+d+e/5\n",
        "print(sum)\n",
        "print(average)"
      ]
    },
    {
      "cell_type": "code",
      "execution_count": 2,
      "id": "1f44b108",
      "metadata": {
        "colab": {
          "base_uri": "https://localhost:8080/"
        },
        "id": "1f44b108",
        "outputId": "21d93c3d-0e5f-4397-b611-6e0838fdf428"
      },
      "outputs": [
        {
          "output_type": "stream",
          "name": "stdout",
          "text": [
            "enter a number80\n",
            "3240\n"
          ]
        }
      ],
      "source": [
        "#sum of natural number\n",
        "a=int(input(\"enter a number\"))\n",
        "sum=0\n",
        "for i in range(1,a+1):\n",
        "    sum=sum+i\n",
        "print(sum)"
      ]
    },
    {
      "cell_type": "code",
      "execution_count": 3,
      "id": "28e6ec8c",
      "metadata": {
        "colab": {
          "base_uri": "https://localhost:8080/"
        },
        "id": "28e6ec8c",
        "outputId": "23995e29-7952-4da5-ae28-040ead7ea2a9"
      },
      "outputs": [
        {
          "output_type": "stream",
          "name": "stdout",
          "text": [
            "enter a number5\n",
            "120\n"
          ]
        }
      ],
      "source": [
        "#factoriyal\n",
        "a=int(input(\"enter a number\"))\n",
        "fact=1\n",
        "for i in range(1,a+1):\n",
        "    fact=fact*i\n",
        "print(fact)\n"
      ]
    },
    {
      "cell_type": "code",
      "execution_count": 4,
      "id": "303dc57b",
      "metadata": {
        "colab": {
          "base_uri": "https://localhost:8080/"
        },
        "id": "303dc57b",
        "outputId": "9b330c76-22ca-4081-a859-8aab22304cb9"
      },
      "outputs": [
        {
          "output_type": "stream",
          "name": "stdout",
          "text": [
            "1\n",
            "2\n",
            "3\n",
            "4\n",
            "5\n",
            "6\n",
            "7\n",
            "8\n",
            "9\n",
            "10\n"
          ]
        }
      ],
      "source": [
        "#while loop\n",
        "i=1\n",
        "while(i<=10):\n",
        "    print(i)\n",
        "    i=i+1\n",
        "\n"
      ]
    },
    {
      "cell_type": "code",
      "execution_count": 5,
      "id": "a3d3266e",
      "metadata": {
        "colab": {
          "base_uri": "https://localhost:8080/"
        },
        "id": "a3d3266e",
        "outputId": "c6d562f1-9618-4569-858f-a61395b5271a"
      },
      "outputs": [
        {
          "output_type": "stream",
          "name": "stdout",
          "text": [
            "10\n",
            "9\n",
            "8\n",
            "7\n",
            "6\n",
            "5\n",
            "4\n",
            "3\n",
            "2\n",
            "1\n"
          ]
        }
      ],
      "source": [
        "i=10\n",
        "while (i!=0):\n",
        "    print(i)\n",
        "    i=i-1"
      ]
    },
    {
      "cell_type": "code",
      "execution_count": 7,
      "id": "2563ce41",
      "metadata": {
        "colab": {
          "base_uri": "https://localhost:8080/"
        },
        "id": "2563ce41",
        "outputId": "32861e20-9964-4bca-ed7f-a10fccb2547f"
      },
      "outputs": [
        {
          "output_type": "stream",
          "name": "stdout",
          "text": [
            "enter a number2\n",
            "enter table till10\n",
            "2\n",
            "4\n",
            "6\n",
            "8\n",
            "10\n",
            "12\n",
            "14\n",
            "16\n",
            "18\n",
            "20\n"
          ]
        }
      ],
      "source": [
        "n=int(input(\"enter a number\"))\n",
        "i=int(input(\"enter table till\"))\n",
        "j=1\n",
        "while (j<=i):\n",
        "    print(n*j)\n",
        "    j=j+1\n",
        "\n",
        "\n",
        "\n",
        "\n",
        "\n",
        ""
      ]
    },
    {
      "cell_type": "code",
      "execution_count": 8,
      "id": "ae528487",
      "metadata": {
        "colab": {
          "base_uri": "https://localhost:8080/"
        },
        "id": "ae528487",
        "outputId": "6c26c42d-e385-416e-fcaa-7f6781f997d4"
      },
      "outputs": [
        {
          "output_type": "stream",
          "name": "stdout",
          "text": [
            "11\n"
          ]
        }
      ],
      "source": [
        "def add():\n",
        "    a=5\n",
        "    b=6\n",
        "    c=a+b\n",
        "    print(c)\n",
        "add()"
      ]
    },
    {
      "cell_type": "code",
      "execution_count": 9,
      "id": "d28b1adc",
      "metadata": {
        "colab": {
          "base_uri": "https://localhost:8080/"
        },
        "id": "d28b1adc",
        "outputId": "40c053ff-65a8-44ae-bd61-6f978e970a0e"
      },
      "outputs": [
        {
          "output_type": "stream",
          "name": "stdout",
          "text": [
            "enter a number100\n",
            "enter a number20\n",
            "80\n"
          ]
        }
      ],
      "source": [
        "def sub():\n",
        "    a=int(input(\"enter a number\"))\n",
        "    b=int(input(\"enter a number\"))\n",
        "    c=a-b\n",
        "    print(c)\n",
        "sub()"
      ]
    },
    {
      "cell_type": "code",
      "execution_count": 10,
      "id": "e36cd46b",
      "metadata": {
        "colab": {
          "base_uri": "https://localhost:8080/"
        },
        "id": "e36cd46b",
        "outputId": "6d33de31-c287-449e-8c57-1acaefdd15aa"
      },
      "outputs": [
        {
          "output_type": "stream",
          "name": "stdout",
          "text": [
            "8\n"
          ]
        }
      ],
      "source": [
        "def add(a,b):\n",
        "    print(a+b)\n",
        "add(5,3)"
      ]
    },
    {
      "cell_type": "code",
      "execution_count": 11,
      "id": "d5ae106c",
      "metadata": {
        "scrolled": true,
        "colab": {
          "base_uri": "https://localhost:8080/"
        },
        "id": "d5ae106c",
        "outputId": "23f3aa4a-315a-46f1-c83f-27b85c1282c8"
      },
      "outputs": [
        {
          "output_type": "stream",
          "name": "stdout",
          "text": [
            "enter a number 100\n",
            "enter a number 20\n",
            "120\n"
          ]
        }
      ],
      "source": [
        "c=int(input(\"enter a number \"))\n",
        "d=int(input(\"enter a number \"))\n",
        "def add(a,b):\n",
        "    print(a+b)\n",
        "add(c,d)"
      ]
    },
    {
      "cell_type": "code",
      "execution_count": 12,
      "id": "a502ec21",
      "metadata": {
        "colab": {
          "base_uri": "https://localhost:8080/"
        },
        "id": "a502ec21",
        "outputId": "e6cfc896-fe28-4fb8-a246-764957d5abc2"
      },
      "outputs": [
        {
          "output_type": "stream",
          "name": "stdout",
          "text": [
            "11\n",
            "3\n"
          ]
        }
      ],
      "source": [
        "def sum(a,b):\n",
        "    a=5\n",
        "    b=6\n",
        "    print(a+b)\n",
        "def add(a,b):\n",
        "    a=6\n",
        "    b=3\n",
        "    print(a-b)\n",
        "def disp():\n",
        "    sum(a,b)\n",
        "    add(a,b)\n",
        "\n",
        "disp()"
      ]
    },
    {
      "cell_type": "code",
      "execution_count": 13,
      "id": "d42e2024",
      "metadata": {
        "colab": {
          "base_uri": "https://localhost:8080/"
        },
        "id": "d42e2024",
        "outputId": "6468e234-01de-412d-bfb7-925c4669bdae"
      },
      "outputs": [
        {
          "output_type": "stream",
          "name": "stdout",
          "text": [
            "enter radius of circle7\n",
            "147\n",
            "44.0\n"
          ]
        }
      ],
      "source": [
        "r=int(input(\"enter radius of circle\"))\n",
        "area=(22//7)*(r)**2\n",
        "circum=2*(22/7)*r\n",
        "print(area)\n",
        "print(circum)"
      ]
    },
    {
      "cell_type": "code",
      "execution_count": 14,
      "id": "1155e4bd",
      "metadata": {
        "colab": {
          "base_uri": "https://localhost:8080/"
        },
        "id": "1155e4bd",
        "outputId": "337fe6a5-8fd9-4421-ab79-98cb16e1b485"
      },
      "outputs": [
        {
          "output_type": "stream",
          "name": "stdout",
          "text": [
            "enter temperature of today 20\n",
            "68.0\n"
          ]
        }
      ],
      "source": [
        "c=float(input(\"enter temperature of today \"))\n",
        "f=c*(9/5)+32\n",
        "print(f)"
      ]
    },
    {
      "cell_type": "code",
      "execution_count": 15,
      "id": "b0a9dbf2",
      "metadata": {
        "colab": {
          "base_uri": "https://localhost:8080/"
        },
        "id": "b0a9dbf2",
        "outputId": "c34c056f-209a-4485-aae0-250fe91e4e09"
      },
      "outputs": [
        {
          "output_type": "stream",
          "name": "stdout",
          "text": [
            "enter principal amount 70\n",
            "enter rate of intrest 60\n",
            "enter time for intrest 50\n",
            "2100.0\n"
          ]
        }
      ],
      "source": [
        "p=int(input(\"enter principal amount \"))\n",
        "r=float(input(\"enter rate of intrest \"))\n",
        "t=int(input(\"enter time for intrest \"))\n",
        "s=(p*r*t)/100\n",
        "print(s)\n"
      ]
    },
    {
      "cell_type": "code",
      "execution_count": 16,
      "id": "6d9a3297",
      "metadata": {
        "colab": {
          "base_uri": "https://localhost:8080/"
        },
        "id": "6d9a3297",
        "outputId": "bb78a2ff-d6d3-4f11-df97-a89c7ba76e04"
      },
      "outputs": [
        {
          "output_type": "stream",
          "name": "stdout",
          "text": [
            "enter principal amount 100\n",
            "enter rate of intrest 5\n",
            "enter time for intrest 10\n",
            "62.889462677744206\n"
          ]
        }
      ],
      "source": [
        "p=int(input(\"enter principal amount \"))\n",
        "r=float(input(\"enter rate of intrest \"))\n",
        "t=int(input(\"enter time for intrest \"))\n",
        "s=p*((1+r/100)**t)-p\n",
        "print(s)"
      ]
    },
    {
      "cell_type": "code",
      "execution_count": 17,
      "id": "3554ea5e",
      "metadata": {
        "colab": {
          "base_uri": "https://localhost:8080/"
        },
        "id": "3554ea5e",
        "outputId": "a1077870-2a10-434a-a31f-5cd0abe485f6"
      },
      "outputs": [
        {
          "output_type": "stream",
          "name": "stdout",
          "text": [
            "enter first no.100\n",
            "enter second no.90\n",
            "enter third no.80\n",
            "enter fourth no.70\n",
            "greatest number is : 100.0\n"
          ]
        }
      ],
      "source": [
        "a=float(input(\"enter first no.\"))\n",
        "b=float(input(\"enter second no.\"))\n",
        "c=float(input(\"enter third no.\"))\n",
        "d=float(input(\"enter fourth no.\"))\n",
        "if (a>b and a>c and a>d):\n",
        "    print(\"greatest number is :\" , a)\n",
        "elif (b>c and b>d):\n",
        "    print(\"greatest numbe is :\", b)\n",
        "elif(c>d):\n",
        "    print(\"greatest number is :\", c)\n",
        "elif(d>c):\n",
        "    print(\"greatest number is :\", d)\n",
        "else:\n",
        "    print(\"either all value is equal\")\n"
      ]
    },
    {
      "cell_type": "code",
      "execution_count": 18,
      "id": "a8a8f09c",
      "metadata": {
        "colab": {
          "base_uri": "https://localhost:8080/"
        },
        "id": "a8a8f09c",
        "outputId": "247df6ec-5a49-4028-fecc-7dc052ce4779"
      },
      "outputs": [
        {
          "output_type": "stream",
          "name": "stdout",
          "text": [
            "enter your age 34\n",
            "mature\n"
          ]
        }
      ],
      "source": [
        "y=int(input(\"enter your age \"))\n",
        "if (y>5 and y<12):\n",
        "    print(\"kid\")\n",
        "elif (y>=12 and y<18):\n",
        "    print(\"teenager\")\n",
        "elif (y>=18 and y<25):\n",
        "    print(\"younger\")\n",
        "elif (y>=25 and y<35):\n",
        "    print(\"mature\")\n",
        "elif (y>=35 and y<50):\n",
        "    print(\"old\")\n",
        "else:\n",
        "    print(\"senior citizen\")"
      ]
    },
    {
      "cell_type": "code",
      "execution_count": 19,
      "id": "d09eeab6",
      "metadata": {
        "colab": {
          "base_uri": "https://localhost:8080/"
        },
        "id": "d09eeab6",
        "outputId": "33f5e867-787e-4b5e-ed58-c2e0ce92ed8d"
      },
      "outputs": [
        {
          "output_type": "stream",
          "name": "stdout",
          "text": [
            "enter limit 10\n",
            "the sum is 45\n"
          ]
        }
      ],
      "source": [
        "n=int(input(\"enter limit \"))\n",
        "s=0\n",
        "for i in range(1,n):\n",
        "    s=i+s\n",
        "print(\"the sum is\",s)"
      ]
    },
    {
      "cell_type": "code",
      "execution_count": 21,
      "id": "e40a2b69",
      "metadata": {
        "colab": {
          "base_uri": "https://localhost:8080/"
        },
        "id": "e40a2b69",
        "outputId": "3e8ff412-1264-446d-a213-38d426ea7905"
      },
      "outputs": [
        {
          "output_type": "stream",
          "name": "stdout",
          "text": [
            "enter a number7\n",
            "the factorial of 7 is 5040\n"
          ]
        }
      ],
      "source": [
        "a=int(input(\"enter a number\"))\n",
        "factorial=1\n",
        "if a<0:\n",
        "    print(\"sorry factorial does not exit for negative number\")\n",
        "elif a==0:\n",
        "    print(\"factorial of 0 is 1\")\n",
        "else:\n",
        "    for i in range(1,a+1):\n",
        "        factorial=factorial*i\n",
        "    print(\"the factorial of\",a,\"is\",factorial)"
      ]
    },
    {
      "cell_type": "code",
      "execution_count": 22,
      "id": "00da2eb1",
      "metadata": {
        "colab": {
          "base_uri": "https://localhost:8080/"
        },
        "id": "00da2eb1",
        "outputId": "f4c2d430-3c30-4405-96c0-833cc1187cf8"
      },
      "outputs": [
        {
          "output_type": "stream",
          "name": "stdout",
          "text": [
            "enter a multiplication number20\n",
            "20\n",
            "40\n",
            "60\n",
            "80\n",
            "100\n",
            "120\n",
            "140\n",
            "160\n",
            "180\n",
            "200\n"
          ]
        }
      ],
      "source": [
        "a=int(input(\"enter a multiplication number\"))\n",
        "i=0\n",
        "for i in range(1,11):\n",
        "    i=a*i\n",
        "    print(i)"
      ]
    },
    {
      "cell_type": "code",
      "execution_count": 24,
      "id": "04faf499",
      "metadata": {
        "colab": {
          "base_uri": "https://localhost:8080/"
        },
        "id": "04faf499",
        "outputId": "d1146092-2956-4aa3-d059-3c13eaf8ced7"
      },
      "outputs": [
        {
          "output_type": "stream",
          "name": "stdout",
          "text": [
            "enter the number 10\n",
            "**********\n",
            "*********\n",
            "********\n",
            "*******\n",
            "******\n",
            "*****\n",
            "****\n",
            "***\n",
            "**\n",
            "*\n"
          ]
        }
      ],
      "source": [
        "n=int(input(\"enter the number \"))\n",
        "for i in range(n,0,-1):\n",
        "    for j in range (0,i):\n",
        "        print(\"*\",end=\"\")\n",
        "    print()"
      ]
    },
    {
      "cell_type": "code",
      "execution_count": 25,
      "id": "6e6c4efd",
      "metadata": {
        "colab": {
          "base_uri": "https://localhost:8080/"
        },
        "id": "6e6c4efd",
        "outputId": "5fc456ee-c412-477c-9779-a19f62b60d97"
      },
      "outputs": [
        {
          "output_type": "stream",
          "name": "stdout",
          "text": [
            "enter a number20\n",
            "1\n",
            "2\n",
            "3\n",
            "4\n",
            "5\n",
            "6\n",
            "7\n",
            "8\n",
            "9\n",
            "10\n",
            "11\n",
            "12\n",
            "13\n",
            "14\n",
            "15\n",
            "16\n",
            "17\n",
            "18\n",
            "19\n"
          ]
        }
      ],
      "source": [
        "#1\n",
        "n= int(input(\"enter a number\"))\n",
        "for i in range(1,n):\n",
        "    print(i)"
      ]
    },
    {
      "cell_type": "code",
      "execution_count": 26,
      "id": "22eec46c",
      "metadata": {
        "colab": {
          "base_uri": "https://localhost:8080/"
        },
        "id": "22eec46c",
        "outputId": "663776b2-6e62-41bd-dedc-1943edaac3af"
      },
      "outputs": [
        {
          "output_type": "stream",
          "name": "stdout",
          "text": [
            "enter number of list to start10\n",
            "[0, 1, 2, 3, 4, 5, 6, 7, 8, 9]\n"
          ]
        }
      ],
      "source": [
        "#2\n",
        "l=[]\n",
        "n = int(input(\"enter number of list to start\"))\n",
        "for i in range (0,n):\n",
        "    l.append(i)\n",
        "print(l)\n"
      ]
    },
    {
      "cell_type": "code",
      "execution_count": 27,
      "id": "527f6ae0",
      "metadata": {
        "colab": {
          "base_uri": "https://localhost:8080/"
        },
        "id": "527f6ae0",
        "outputId": "25bc2303-99c2-488b-fde5-d1603ddaae27"
      },
      "outputs": [
        {
          "output_type": "stream",
          "name": "stdout",
          "text": [
            "[6, 2, 3, 4, 5, 1]\n"
          ]
        }
      ],
      "source": [
        "#3\n",
        "l=[1,2,3,4,5,6]\n",
        "a=l[0],l[5]=l[5],l[0]\n",
        "print(l)"
      ]
    },
    {
      "cell_type": "code",
      "execution_count": 28,
      "id": "c0bdc23f",
      "metadata": {
        "colab": {
          "base_uri": "https://localhost:8080/"
        },
        "id": "c0bdc23f",
        "outputId": "828292cb-0a09-4586-8ff8-ff5c6c9aa4b5"
      },
      "outputs": [
        {
          "output_type": "stream",
          "name": "stdout",
          "text": [
            "enter a number10\n",
            "enter a number20\n",
            "10 != 20\n"
          ]
        }
      ],
      "source": [
        "#4\n",
        "a=int(input(\"enter a number\"))\n",
        "b=int(input(\"enter a number\"))\n",
        "if a==b:\n",
        "    print(a ,\"=\", b)\n",
        "else:\n",
        "    print(a, \"!=\", b )"
      ]
    },
    {
      "cell_type": "code",
      "execution_count": 29,
      "id": "4adba947",
      "metadata": {
        "colab": {
          "base_uri": "https://localhost:8080/"
        },
        "id": "4adba947",
        "outputId": "5b377ac2-84e0-4af4-b4f5-904feca09ceb"
      },
      "outputs": [
        {
          "output_type": "stream",
          "name": "stdout",
          "text": [
            "50 is largest value\n"
          ]
        }
      ],
      "source": [
        "#5\n",
        "a=50\n",
        "b=40\n",
        "c=30\n",
        "if a>b:\n",
        "    print(a,\"is largest value\")\n",
        "elif b>c:\n",
        "    print(b,\"is largest value\")\n",
        "else:\n",
        "    print(c,\"is largest value\")"
      ]
    },
    {
      "cell_type": "code",
      "execution_count": 31,
      "id": "5f696e98",
      "metadata": {
        "colab": {
          "base_uri": "https://localhost:8080/"
        },
        "id": "5f696e98",
        "outputId": "aee5c6ca-f4ef-4fcc-c15f-55b7d3905d53"
      },
      "outputs": [
        {
          "output_type": "stream",
          "name": "stdout",
          "text": [
            "enter year2000\n",
            " it's a leap year\n"
          ]
        }
      ],
      "source": [
        "#6\n",
        "year=int(input(\"enter year\"))\n",
        "if year%4==0:\n",
        "    print(\" it's a leap year\")\n",
        "else:\n",
        "    print(\"it's not a leap year\")"
      ]
    },
    {
      "cell_type": "code",
      "execution_count": 32,
      "id": "5f531f8d",
      "metadata": {
        "colab": {
          "base_uri": "https://localhost:8080/"
        },
        "id": "5f531f8d",
        "outputId": "d520375a-0223-4dc1-a892-96a100d99c45"
      },
      "outputs": [
        {
          "output_type": "stream",
          "name": "stdout",
          "text": [
            "enter first student marks92\n",
            "enter second student marks78\n",
            "enter third student marks73\n",
            "enter fourth student marks90\n",
            "enter fivth student marks45\n",
            "75.6\n",
            "C\n"
          ]
        }
      ],
      "source": [
        "#7\n",
        "a=int(input(\"enter first student marks\"))\n",
        "b=int(input(\"enter second student marks\"))\n",
        "c=int(input(\"enter third student marks\"))\n",
        "d=int(input(\"enter fourth student marks\"))\n",
        "e=int(input(\"enter fivth student marks\"))\n",
        "p=(a+b+c+d+e)/5\n",
        "print(p)\n",
        "if p>90 and p<=100:\n",
        "    print(\"A\")\n",
        "elif p>80 and p<90:\n",
        "    print(\"B\")\n",
        "elif p>60 and p<80:\n",
        "    print(\"C\")\n",
        "else:\n",
        "    print(\"D\")"
      ]
    },
    {
      "cell_type": "code",
      "execution_count": 34,
      "id": "ea4e8fa9",
      "metadata": {
        "colab": {
          "base_uri": "https://localhost:8080/"
        },
        "id": "ea4e8fa9",
        "outputId": "a494d8ac-ef50-48a7-c5e1-3d731904fb23"
      },
      "outputs": [
        {
          "output_type": "stream",
          "name": "stdout",
          "text": [
            "enter a number40\n",
            "b is less than a\n"
          ]
        }
      ],
      "source": [
        "#8\n",
        "a=50\n",
        "b=int(input(\"enter a number\"))\n",
        "if a<b:\n",
        "    print(\"a is less than b\")\n",
        "elif b<a:\n",
        "    print(\"b is less than a\")\n",
        "else:\n",
        "    print(\"error\")"
      ]
    },
    {
      "cell_type": "code",
      "execution_count": 35,
      "id": "cefec61c",
      "metadata": {
        "colab": {
          "base_uri": "https://localhost:8080/"
        },
        "id": "cefec61c",
        "outputId": "1f8318a4-3ca4-4e2f-d70a-c4e99f4d0e16"
      },
      "outputs": [
        {
          "output_type": "stream",
          "name": "stdout",
          "text": [
            "enter a number till print even number20\n",
            "2\n",
            "4\n",
            "6\n",
            "8\n",
            "10\n",
            "12\n",
            "14\n",
            "16\n",
            "18\n",
            "20\n"
          ]
        }
      ],
      "source": [
        "#9\n",
        "a=int(input(\"enter a number till print even number\"))\n",
        "for i in range (2,a+1,2):\n",
        "    print(i)"
      ]
    },
    {
      "cell_type": "code",
      "execution_count": 36,
      "id": "20b45732",
      "metadata": {
        "colab": {
          "base_uri": "https://localhost:8080/"
        },
        "id": "20b45732",
        "outputId": "1c31a6d4-2acf-423c-d6c2-ad4f39ede5b6"
      },
      "outputs": [
        {
          "output_type": "stream",
          "name": "stdout",
          "text": [
            "enter number till find sum10\n",
            "30\n"
          ]
        }
      ],
      "source": [
        "#10 even number sum\n",
        "n=int(input(\"enter number till find sum\"))\n",
        "sum=0\n",
        "for i in range (0,n+1,2):\n",
        "    sum=sum+i\n",
        "    i=i+sum\n",
        "print(sum)"
      ]
    },
    {
      "cell_type": "code",
      "execution_count": 37,
      "id": "b5231f8a",
      "metadata": {
        "colab": {
          "base_uri": "https://localhost:8080/"
        },
        "id": "b5231f8a",
        "outputId": "2b056f93-aa5b-43d8-9464-428ff23ba27a"
      },
      "outputs": [
        {
          "output_type": "stream",
          "name": "stdout",
          "text": [
            "enter number till find sum10\n",
            "25\n"
          ]
        }
      ],
      "source": [
        "# odd number sum\n",
        "n=int(input(\"enter number till find sum\"))\n",
        "sum=0\n",
        "for i in range (1,n+1,2):\n",
        "    sum=sum+i\n",
        "    i=i+sum\n",
        "print(sum)"
      ]
    },
    {
      "cell_type": "code",
      "execution_count": 39,
      "id": "1b7f9846",
      "metadata": {
        "colab": {
          "base_uri": "https://localhost:8080/"
        },
        "id": "1b7f9846",
        "outputId": "4914a711-d4f5-4811-a22f-0df7855dc0cd"
      },
      "outputs": [
        {
          "output_type": "stream",
          "name": "stdout",
          "text": [
            "enter a number for fibonacci series10\n",
            "1\n",
            "2\n",
            "3\n",
            "5\n",
            "8\n",
            "13\n",
            "21\n",
            "34\n",
            "55\n",
            "89\n",
            "144\n"
          ]
        }
      ],
      "source": [
        "#10 fibonacci series\n",
        "n=int(input(\"enter a number for fibonacci series\"))\n",
        "first_value=0\n",
        "second_value=1\n",
        "for i in range (0,n+1):\n",
        "    if n<=1:\n",
        "        next=n\n",
        "    else:\n",
        "        next=first_value+second_value\n",
        "        first_value=second_value\n",
        "        second_value=next\n",
        "    print(next)"
      ]
    },
    {
      "cell_type": "code",
      "execution_count": 40,
      "id": "e1f8b1ee",
      "metadata": {
        "colab": {
          "base_uri": "https://localhost:8080/"
        },
        "id": "e1f8b1ee",
        "outputId": "8b7ee047-5302-4ebe-a0eb-5a02292fc5ea"
      },
      "outputs": [
        {
          "output_type": "stream",
          "name": "stdout",
          "text": [
            "enter a number to check prime number20\n",
            "20 is not a prime number\n"
          ]
        }
      ],
      "source": [
        "# check prime number\n",
        "a=int(input(\"enter a number to check prime number\"))\n",
        "limit=int(a/2)+1\n",
        "for i in range(2,limit):\n",
        "    b=a%i\n",
        "    if b%i==0:\n",
        "        print(a,\"is not a prime number\")\n",
        "        break\n",
        "else:\n",
        "    (a,\"is a prime number\")"
      ]
    },
    {
      "cell_type": "code",
      "execution_count": 42,
      "id": "8ca1e8e8",
      "metadata": {
        "colab": {
          "base_uri": "https://localhost:8080/"
        },
        "id": "8ca1e8e8",
        "outputId": "511e36b7-c0b7-4de8-ea65-0d906a0d12a6"
      },
      "outputs": [
        {
          "output_type": "stream",
          "name": "stdout",
          "text": [
            "36\n"
          ]
        }
      ],
      "source": [
        "# sum of digits given number\n",
        "a=12345678\n",
        "def getsum(a):\n",
        "    sum=0\n",
        "    for digit in str(a):\n",
        "        sum+=int(digit)\n",
        "    return sum\n",
        "print(getsum(a))"
      ]
    },
    {
      "cell_type": "code",
      "execution_count": 44,
      "id": "f604371f",
      "metadata": {
        "colab": {
          "base_uri": "https://localhost:8080/"
        },
        "id": "f604371f",
        "outputId": "a5170d5c-9706-4471-d20a-5fa570e54120"
      },
      "outputs": [
        {
          "output_type": "stream",
          "name": "stdout",
          "text": [
            "enter a number67\n",
            "76\n"
          ]
        }
      ],
      "source": [
        "#revers a number\n",
        "n=int(input(\"enter a number\"))\n",
        "a=n\n",
        "r=0\n",
        "while n>0:\n",
        "    d=n%10\n",
        "    r=r*10+d\n",
        "    n=n//10\n",
        "print(r)"
      ]
    },
    {
      "cell_type": "code",
      "execution_count": 47,
      "id": "ea1005b9",
      "metadata": {
        "colab": {
          "base_uri": "https://localhost:8080/"
        },
        "id": "ea1005b9",
        "outputId": "76dc6509-2d0d-430d-f5ad-a5ffa1b2f9df"
      },
      "outputs": [
        {
          "output_type": "stream",
          "name": "stdout",
          "text": [
            "enter a binary number: 20\n",
            "4\n"
          ]
        }
      ],
      "source": [
        "# change into binary to decimal\n",
        "a= input(\"enter a binary number: \")\n",
        "def binarytodecimal(a):\n",
        "    decimal=0\n",
        "    for i in a:\n",
        "        decimal=decimal*2+int(i)\n",
        "    print(decimal)\n",
        "binarytodecimal(a)"
      ]
    },
    {
      "cell_type": "code",
      "execution_count": 61,
      "id": "da3ff22d",
      "metadata": {
        "id": "da3ff22d"
      },
      "outputs": [],
      "source": [
        "import array\n",
        "from array import*"
      ]
    },
    {
      "cell_type": "code",
      "execution_count": 62,
      "id": "d3f5adfd",
      "metadata": {
        "colab": {
          "base_uri": "https://localhost:8080/"
        },
        "id": "d3f5adfd",
        "outputId": "37e820d9-c9a0-4c12-fac5-0fdd99eb398e"
      },
      "outputs": [
        {
          "output_type": "stream",
          "name": "stdout",
          "text": [
            "('i', [1, 2, 3, 4, 5])\n"
          ]
        }
      ],
      "source": [
        "array=(\"i\",[1,2,3,4,5])\n",
        "print(array)"
      ]
    },
    {
      "cell_type": "code",
      "execution_count": null,
      "id": "1d559dea",
      "metadata": {
        "id": "1d559dea"
      },
      "outputs": [],
      "source": [
        "80# sum of two array\n",
        "arr1=[]\n",
        "n=int(input(\"enter the number of elements\"))\n",
        "for i in range(0,n):\n",
        "    elements=int(input(\"enter elements of arr1\"))\n",
        "    arr1.append(elements)\n",
        "print(arr1)"
      ]
    },
    {
      "cell_type": "code",
      "execution_count": null,
      "id": "7aecb6c2",
      "metadata": {
        "id": "7aecb6c2",
        "outputId": "0195dba6-2bce-46b2-8cdd-2e122e584f5b"
      },
      "outputs": [
        {
          "name": "stdout",
          "output_type": "stream",
          "text": [
            "enter the number of elements6\n",
            "enter elements of arr15\n",
            "enter elements of arr18\n",
            "enter elements of arr19\n",
            "enter elements of arr17\n",
            "enter elements of arr14\n",
            "enter elements of arr13\n",
            "[5, 8, 9, 7, 4, 3]\n"
          ]
        }
      ],
      "source": [
        "arr2=[]\n",
        "n=int(input(\"enter the number of elements\"))\n",
        "for i in range(0,n):\n",
        "    elements=int(input(\"enter elements of arr1\"))\n",
        "    arr2.append(elements)\n",
        "print(arr2)"
      ]
    },
    {
      "cell_type": "code",
      "execution_count": null,
      "id": "ef67972c",
      "metadata": {
        "id": "ef67972c",
        "outputId": "8ec35c49-d047-47da-a781-1da48b9d4c49"
      },
      "outputs": [
        {
          "data": {
            "text/plain": [
              "[2, 6, 8, 9, 7, 3]"
            ]
          },
          "execution_count": 26,
          "metadata": {},
          "output_type": "execute_result"
        }
      ],
      "source": [
        "arr1"
      ]
    },
    {
      "cell_type": "code",
      "execution_count": null,
      "id": "3361c7a4",
      "metadata": {
        "id": "3361c7a4",
        "outputId": "a6dc1fe7-92c5-40a6-b622-9f4ceceb39a8"
      },
      "outputs": [
        {
          "data": {
            "text/plain": [
              "[5, 8, 9, 7, 4, 3]"
            ]
          },
          "execution_count": 27,
          "metadata": {},
          "output_type": "execute_result"
        }
      ],
      "source": [
        "arr2"
      ]
    },
    {
      "cell_type": "code",
      "execution_count": null,
      "id": "d8bda0fc",
      "metadata": {
        "id": "d8bda0fc"
      },
      "outputs": [],
      "source": [
        "arr3=arr1+arr2"
      ]
    },
    {
      "cell_type": "code",
      "execution_count": null,
      "id": "7f2a270e",
      "metadata": {
        "id": "7f2a270e",
        "outputId": "e3059208-2906-40d1-db35-402ae4eb3a0a"
      },
      "outputs": [
        {
          "name": "stdout",
          "output_type": "stream",
          "text": [
            "[2, 6, 8, 9, 7, 3, 5, 8, 9, 7, 4, 3]\n"
          ]
        }
      ],
      "source": [
        "print(arr3)"
      ]
    },
    {
      "cell_type": "code",
      "execution_count": null,
      "id": "8c977253",
      "metadata": {
        "id": "8c977253",
        "outputId": "f6e6f3f8-2e63-41cb-d3ce-f2285c354fe3"
      },
      "outputs": [
        {
          "data": {
            "text/plain": [
              "[2, 6, 8, 9, 7, 3, 5, 8, 9, 7, 4, 3]"
            ]
          },
          "execution_count": 31,
          "metadata": {},
          "output_type": "execute_result"
        }
      ],
      "source": [
        "#maximum element\n",
        "arr3"
      ]
    },
    {
      "cell_type": "code",
      "execution_count": null,
      "id": "f45b9f5a",
      "metadata": {
        "id": "f45b9f5a",
        "outputId": "6d75932e-aade-450f-d21e-75926b93f296"
      },
      "outputs": [
        {
          "data": {
            "text/plain": [
              "9"
            ]
          },
          "execution_count": 32,
          "metadata": {},
          "output_type": "execute_result"
        }
      ],
      "source": [
        "max(arr3)"
      ]
    },
    {
      "cell_type": "code",
      "execution_count": null,
      "id": "20fcb7f9",
      "metadata": {
        "id": "20fcb7f9",
        "outputId": "88c8c46f-e8ac-4693-a8e7-47ab0f442564"
      },
      "outputs": [
        {
          "data": {
            "text/plain": [
              "2"
            ]
          },
          "execution_count": 34,
          "metadata": {},
          "output_type": "execute_result"
        }
      ],
      "source": [
        "min(arr3)"
      ]
    },
    {
      "cell_type": "code",
      "execution_count": null,
      "id": "40505c10",
      "metadata": {
        "id": "40505c10"
      },
      "outputs": [],
      "source": [
        "import numpy as np"
      ]
    },
    {
      "cell_type": "code",
      "execution_count": null,
      "id": "61e4de23",
      "metadata": {
        "id": "61e4de23"
      },
      "outputs": [],
      "source": [
        "# multiply two matrix\n",
        "a = [[12,7,3],\n",
        "    [4,5,6],\n",
        "    [7,8,9]]\n",
        "b = [[5,8,1,2],\n",
        "    [6,7,3,0],\n",
        "    [4,5,9,1]]\n",
        "result = [[0,0,0,0],\n",
        "         [0,0,0,0],\n",
        "         [0,0,0,0]]\n",
        "result = np.dot(a,b)\n",
        "for i in result:\n",
        "    print(i)"
      ]
    },
    {
      "cell_type": "code",
      "execution_count": null,
      "id": "e98fda68",
      "metadata": {
        "id": "e98fda68",
        "outputId": "92d5a93e-8269-4260-eb5d-0555a863dd74"
      },
      "outputs": [
        {
          "name": "stdout",
          "output_type": "stream",
          "text": [
            "[17, 15, 4]\n",
            "[10, 12, 9]\n",
            "[11, 13, 18]\n"
          ]
        }
      ],
      "source": [
        "#sum of matrix\n",
        "a = [[12,7,3],\n",
        "    [4,5,6],\n",
        "    [7,8,9]]\n",
        "b = [[5,8,1,2],\n",
        "    [6,7,3,0],\n",
        "    [4,5,9,1]]\n",
        "result = [[a[i][j]+b[i][j]for j in range(len(a[0]))] for i in range(len(a))]\n",
        "for r in result:\n",
        "    print(r)"
      ]
    },
    {
      "cell_type": "code",
      "execution_count": null,
      "id": "62746ba6",
      "metadata": {
        "id": "62746ba6",
        "outputId": "55b11fc4-0fbe-4b96-c0c7-94a4905cf823"
      },
      "outputs": [
        {
          "name": "stdout",
          "output_type": "stream",
          "text": [
            "3\n",
            "2 raised to the power  1 is 1\n",
            "2 raised to the power  2 is 2\n",
            "2 raised to the power  3 is 4\n"
          ]
        }
      ],
      "source": [
        "#power of 2\n",
        "total =  int(input())\n",
        "for i in range(total):\n",
        "    print(\"2 raised to the power \",i,\"is\",2**i)"
      ]
    },
    {
      "cell_type": "code",
      "execution_count": null,
      "id": "43a7dd33",
      "metadata": {
        "id": "43a7dd33",
        "outputId": "c1136614-0699-4789-a609-b63b24a7de64"
      },
      "outputs": [
        {
          "name": "stdout",
          "output_type": "stream",
          "text": [
            "enter the number jisse divide krna hai5\n",
            "enter the number jisko divide krna hai20\n",
            "the number is divible\n"
          ]
        }
      ],
      "source": [
        "#number divisible by another number\n",
        "num=int(input(\"enter the number jisse divide krna hai\"))\n",
        "div=int(input(\"enter the number jisko divide krna hai\"))\n",
        "if num%div:\n",
        "    print(\"the number is divible\")\n",
        "else:\n",
        "    print(\"the number is not divible\")"
      ]
    },
    {
      "cell_type": "code",
      "execution_count": null,
      "id": "8b9ca18e",
      "metadata": {
        "id": "8b9ca18e",
        "outputId": "709421b2-8331-4bd8-a314-d93e586e56e6"
      },
      "outputs": [
        {
          "name": "stdout",
          "output_type": "stream",
          "text": [
            "enter a characters\n",
            "115\n"
          ]
        }
      ],
      "source": [
        "#asc value of character\n",
        "a=input(\"enter a character\")\n",
        "result=ord(a)\n",
        "print(result)"
      ]
    },
    {
      "cell_type": "code",
      "execution_count": null,
      "id": "ca0c74b1",
      "metadata": {
        "id": "ca0c74b1",
        "outputId": "94b1a964-7936-42d6-e355-d384538df9ef"
      },
      "outputs": [
        {
          "name": "stdout",
          "output_type": "stream",
          "text": [
            "the decimal value of  564 is:\n",
            "0b1000110100 in binary.\n",
            "0o1064 in octal.\n",
            "0x234 in hexadecimal.\n"
          ]
        }
      ],
      "source": [
        "# convert decimal to binary,octal,hexadecimal\n",
        "dec=564\n",
        "print(\"the decimal value of \",dec,\"is:\")\n",
        "print(bin(dec),\"in binary.\")\n",
        "print(oct(dec),\"in octal.\")\n",
        "print(hex(dec),\"in hexadecimal.\")"
      ]
    },
    {
      "cell_type": "code",
      "execution_count": null,
      "id": "764da883",
      "metadata": {
        "id": "764da883"
      },
      "outputs": [],
      "source": []
    }
  ],
  "metadata": {
    "kernelspec": {
      "display_name": "Python 3 (ipykernel)",
      "language": "python",
      "name": "python3"
    },
    "language_info": {
      "codemirror_mode": {
        "name": "ipython",
        "version": 3
      },
      "file_extension": ".py",
      "mimetype": "text/x-python",
      "name": "python",
      "nbconvert_exporter": "python",
      "pygments_lexer": "ipython3",
      "version": "3.11.5"
    },
    "colab": {
      "provenance": [],
      "include_colab_link": true
    }
  },
  "nbformat": 4,
  "nbformat_minor": 5
}