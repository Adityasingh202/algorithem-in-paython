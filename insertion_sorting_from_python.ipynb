{
  "nbformat": 4,
  "nbformat_minor": 0,
  "metadata": {
    "colab": {
      "provenance": [],
      "authorship_tag": "ABX9TyOpemDhKpcg5wLKJSbiWLx5",
      "include_colab_link": true
    },
    "kernelspec": {
      "name": "python3",
      "display_name": "Python 3"
    },
    "language_info": {
      "name": "python"
    }
  },
  "cells": [
    {
      "cell_type": "markdown",
      "metadata": {
        "id": "view-in-github",
        "colab_type": "text"
      },
      "source": [
        "<a href=\"https://colab.research.google.com/github/Adityasingh202/algorithem-in-paython/blob/main/insertion_sorting_from_python.ipynb\" target=\"_parent\"><img src=\"https://colab.research.google.com/assets/colab-badge.svg\" alt=\"Open In Colab\"/></a>"
      ]
    },
    {
      "cell_type": "code",
      "execution_count": null,
      "metadata": {
        "id": "nvWHwmT91OMk"
      },
      "outputs": [],
      "source": [
        "# insertion sorting from python"
      ]
    },
    {
      "cell_type": "code",
      "source": [
        "import array\n",
        "from array import *"
      ],
      "metadata": {
        "id": "SBJXYULD1VQr"
      },
      "execution_count": 1,
      "outputs": []
    },
    {
      "cell_type": "code",
      "source": [
        "def insertion_sort(array):\n",
        "    n=len(arr)\n",
        "    for i in range(1,n):\n",
        "        j = i\n",
        "        while arr[j-1]>arr[j]and j>0:\n",
        "             arr[j-1],arr[j]=arr[j],arr[j-1]\n",
        "             j=j-1\n",
        "arr=array('i',[21,31,41,51,61,12,13,14,15,16,])\n",
        "insertion_sort(arr)\n",
        "print(arr)"
      ],
      "metadata": {
        "colab": {
          "base_uri": "https://localhost:8080/"
        },
        "id": "WKGDctcW1Ve_",
        "outputId": "99ed9f8f-52dc-45bf-b35c-511d7954631f"
      },
      "execution_count": 3,
      "outputs": [
        {
          "output_type": "stream",
          "name": "stdout",
          "text": [
            "array('i', [12, 13, 14, 15, 16, 21, 31, 41, 51, 61])\n"
          ]
        }
      ]
    }
  ]
}