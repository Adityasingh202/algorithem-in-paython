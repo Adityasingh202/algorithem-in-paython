{
 "cells": [
  {
   "cell_type": "markdown",
   "id": "bd882bdc",
   "metadata": {},
   "source": [
    "1 # INTERCHANGE FIRST AND LAST"
   ]
  },
  {
   "cell_type": "code",
   "execution_count": 2,
   "id": "35b9de9d",
   "metadata": {},
   "outputs": [
    {
     "name": "stdout",
     "output_type": "stream",
     "text": [
      "[9, 2, 3, 4, 5, 6, 7, 8, [0]]\n"
     ]
    }
   ],
   "source": [
    "l=[1,2,3,4,5,6,7,8,9]\n",
    "l[0],l[8]=l[8],[0]\n",
    "print(l)"
   ]
  },
  {
   "cell_type": "markdown",
   "id": "ea4a3508",
   "metadata": {},
   "source": [
    "2  # INTER SWAP TWO ELEMENTS"
   ]
  },
  {
   "cell_type": "code",
   "execution_count": 3,
   "id": "db4f550b",
   "metadata": {},
   "outputs": [
    {
     "name": "stdout",
     "output_type": "stream",
     "text": [
      "[1, 2, 6, 4, 5, 3, 7, 8]\n"
     ]
    }
   ],
   "source": [
    "l=[1,2,3,4,5,6,7,8]\n",
    "l[2],l[5]=l[5],l[2]\n",
    "print(l)"
   ]
  },
  {
   "cell_type": "markdown",
   "id": "4f02ab5b",
   "metadata": {},
   "source": [
    "3  # SWAP STRING"
   ]
  },
  {
   "cell_type": "code",
   "execution_count": 5,
   "id": "2abf9f21",
   "metadata": {},
   "outputs": [
    {
     "name": "stdout",
     "output_type": "stream",
     "text": [
      "['b', 'a', 'c', 'd', 'e']\n"
     ]
    }
   ],
   "source": [
    "l1=[\"a\",\"b\",\"c\",\"d\",\"e\"]\n",
    "l1[0],l1[1]=l1[1],l1[0]\n",
    "print(l1)"
   ]
  },
  {
   "cell_type": "markdown",
   "id": "4f40c9ce",
   "metadata": {},
   "source": [
    "4 #LENGTH"
   ]
  },
  {
   "cell_type": "code",
   "execution_count": 7,
   "id": "e2f39af3",
   "metadata": {},
   "outputs": [
    {
     "data": {
      "text/plain": [
       "9"
      ]
     },
     "execution_count": 7,
     "metadata": {},
     "output_type": "execute_result"
    }
   ],
   "source": [
    "l=[1,2,3,4,5,6,7,8,9]\n",
    "len(l)"
   ]
  },
  {
   "cell_type": "markdown",
   "id": "dbefa69a",
   "metadata": {},
   "source": [
    "5 #MAXIMUM"
   ]
  },
  {
   "cell_type": "code",
   "execution_count": 9,
   "id": "d424ff77",
   "metadata": {},
   "outputs": [
    {
     "name": "stdout",
     "output_type": "stream",
     "text": [
      "a is greater than b\n"
     ]
    }
   ],
   "source": [
    "a=20\n",
    "b=10\n",
    "if (a>b):\n",
    "    print(\"a is greater than b\")\n",
    "else:\n",
    "    print(\"b is greater than a\")\n",
    "    "
   ]
  },
  {
   "cell_type": "markdown",
   "id": "0d85f08b",
   "metadata": {},
   "source": [
    "6 #MINIMUM"
   ]
  },
  {
   "cell_type": "code",
   "execution_count": 11,
   "id": "2361f2ab",
   "metadata": {},
   "outputs": [
    {
     "name": "stdout",
     "output_type": "stream",
     "text": [
      "a is greatre than b\n"
     ]
    }
   ],
   "source": [
    "a=20\n",
    "b=10\n",
    "if  (a<b):\n",
    "    print(\"a is less than b\")\n",
    "else:\n",
    "    print(\"a is greatre than b\")"
   ]
  },
  {
   "cell_type": "markdown",
   "id": "8557481f",
   "metadata": {},
   "source": [
    "7 #CHECK LIST ITEM "
   ]
  },
  {
   "cell_type": "code",
   "execution_count": 16,
   "id": "fe183111",
   "metadata": {},
   "outputs": [
    {
     "name": "stdout",
     "output_type": "stream",
     "text": [
      "yes\n"
     ]
    }
   ],
   "source": [
    "l=[1,2,3,4,5,6]\n",
    "a=2\n",
    "if a in l:\n",
    "    print(\"yes\")\n",
    "else:\n",
    "    print(\"no\")"
   ]
  },
  {
   "cell_type": "markdown",
   "id": "6dcad138",
   "metadata": {},
   "source": [
    "8 #CLEAR METHOD"
   ]
  },
  {
   "cell_type": "code",
   "execution_count": 18,
   "id": "a3463251",
   "metadata": {},
   "outputs": [
    {
     "name": "stdout",
     "output_type": "stream",
     "text": [
      "[]\n"
     ]
    }
   ],
   "source": [
    "l=[1,2,3,4,5,6]\n",
    "l.clear()\n",
    "print(l)"
   ]
  },
  {
   "cell_type": "code",
   "execution_count": 19,
   "id": "d3507bff",
   "metadata": {},
   "outputs": [
    {
     "name": "stdout",
     "output_type": "stream",
     "text": [
      "[]\n"
     ]
    }
   ],
   "source": [
    "l=[1,2,3,4,5,6]\n",
    "del l[:]\n",
    "print(l)"
   ]
  },
  {
   "cell_type": "code",
   "execution_count": 20,
   "id": "523256c3",
   "metadata": {},
   "outputs": [
    {
     "name": "stdout",
     "output_type": "stream",
     "text": [
      "[]\n"
     ]
    }
   ],
   "source": [
    "l1=[1,2,3,4]\n",
    "while (len(l1)!=0):\n",
    "    l1.pop()\n",
    "print(l1)    "
   ]
  },
  {
   "cell_type": "markdown",
   "id": "0d7c727f",
   "metadata": {},
   "source": [
    "9 #REVERSING LIST ITEM"
   ]
  },
  {
   "cell_type": "code",
   "execution_count": 22,
   "id": "38f9aea8",
   "metadata": {},
   "outputs": [
    {
     "name": "stdout",
     "output_type": "stream",
     "text": [
      "[6, 5, 4, 3, 2, 1]\n"
     ]
    }
   ],
   "source": [
    "l=[1,2,3,4,5,6]\n",
    "l1=l[:: -1]\n",
    "print(l1)"
   ]
  },
  {
   "cell_type": "markdown",
   "id": "e1ad117e",
   "metadata": {},
   "source": [
    "10#COPY METHOD"
   ]
  },
  {
   "cell_type": "code",
   "execution_count": 24,
   "id": "88deff09",
   "metadata": {},
   "outputs": [
    {
     "data": {
      "text/plain": [
       "[1, 2, 3, 4, 5, 6]"
      ]
     },
     "execution_count": 24,
     "metadata": {},
     "output_type": "execute_result"
    }
   ],
   "source": [
    "l1=[1,2,3,4,5,6]\n",
    "l1.copy()"
   ]
  },
  {
   "cell_type": "markdown",
   "id": "8f9cc0dd",
   "metadata": {},
   "source": [
    "11#COUNT METHOD"
   ]
  },
  {
   "cell_type": "code",
   "execution_count": 27,
   "id": "3ab92b5a",
   "metadata": {},
   "outputs": [
    {
     "data": {
      "text/plain": [
       "1"
      ]
     },
     "execution_count": 27,
     "metadata": {},
     "output_type": "execute_result"
    }
   ],
   "source": [
    "l1=[5,9,8,7,6,2,1,3,4]\n",
    "l1.count(3)"
   ]
  },
  {
   "cell_type": "markdown",
   "id": "a58491ef",
   "metadata": {},
   "source": [
    "12#AVERAGE"
   ]
  },
  {
   "cell_type": "code",
   "execution_count": 31,
   "id": "13b2c8a6",
   "metadata": {},
   "outputs": [
    {
     "name": "stdout",
     "output_type": "stream",
     "text": [
      "5.0\n"
     ]
    }
   ],
   "source": [
    "l=[1,2,3,4,5,6,7,8,9]\n",
    "avg=sum(l)/len(l)\n",
    "print(avg)"
   ]
  },
  {
   "cell_type": "markdown",
   "id": "7521ae2b",
   "metadata": {},
   "source": [
    "#SUM "
   ]
  },
  {
   "cell_type": "code",
   "execution_count": 2,
   "id": "d52deec4",
   "metadata": {},
   "outputs": [
    {
     "name": "stdout",
     "output_type": "stream",
     "text": [
      "45\n"
     ]
    }
   ],
   "source": [
    "l=[1,2,3,4,5,6,7,8,9]\n",
    "a=sum(l)\n",
    "print(a)"
   ]
  },
  {
   "cell_type": "markdown",
   "id": "2143033d",
   "metadata": {},
   "source": [
    "13#SUM OF ALL NUMBER IN A LIST"
   ]
  },
  {
   "cell_type": "code",
   "execution_count": 3,
   "id": "b8d2636e",
   "metadata": {},
   "outputs": [
    {
     "data": {
      "text/plain": [
       "550"
      ]
     },
     "execution_count": 3,
     "metadata": {},
     "output_type": "execute_result"
    }
   ],
   "source": [
    "list=[10,20,30,40,50,60,70,80,90,100]\n",
    "sum(list)"
   ]
  },
  {
   "cell_type": "markdown",
   "id": "2116e9ed",
   "metadata": {},
   "source": [
    "14#MULTIPLY"
   ]
  },
  {
   "cell_type": "code",
   "execution_count": 9,
   "id": "bd3438b5",
   "metadata": {},
   "outputs": [
    {
     "name": "stdout",
     "output_type": "stream",
     "text": [
      "40320\n"
     ]
    }
   ],
   "source": [
    "import math \n",
    "l=[1,2,3,4,5,6,7,8]\n",
    "multi=math.prod(l)\n",
    "print(multi)"
   ]
  },
  {
   "cell_type": "markdown",
   "id": "f3d3d588",
   "metadata": {},
   "source": [
    "15 # MINIMUM VALUE IN LIST"
   ]
  },
  {
   "cell_type": "code",
   "execution_count": 11,
   "id": "231e957c",
   "metadata": {},
   "outputs": [
    {
     "data": {
      "text/plain": [
       "10"
      ]
     },
     "execution_count": 11,
     "metadata": {},
     "output_type": "execute_result"
    }
   ],
   "source": [
    "l=[10,20,30,40,50,60,70,80]\n",
    "min(l)"
   ]
  },
  {
   "cell_type": "markdown",
   "id": "04d71543",
   "metadata": {},
   "source": [
    "16 # MAXIMUM VALUE IN LIST"
   ]
  },
  {
   "cell_type": "code",
   "execution_count": 12,
   "id": "4fc2a70a",
   "metadata": {},
   "outputs": [
    {
     "data": {
      "text/plain": [
       "80"
      ]
     },
     "execution_count": 12,
     "metadata": {},
     "output_type": "execute_result"
    }
   ],
   "source": [
    "l=[10,20,30,40,50,60,70,80]\n",
    "max(l)"
   ]
  },
  {
   "cell_type": "markdown",
   "id": "bd76dea9",
   "metadata": {},
   "source": [
    "17 # FIND SECOND LARGEST VALUE"
   ]
  },
  {
   "cell_type": "code",
   "execution_count": 25,
   "id": "aaa78dc6",
   "metadata": {},
   "outputs": [
    {
     "name": "stdout",
     "output_type": "stream",
     "text": [
      "[10, 20, 30, 40, 50, 60, 70, 80]\n",
      "second largest value: 70\n"
     ]
    }
   ],
   "source": [
    "list1=[10,20,30,40,50,60,70,80]\n",
    "list1.sort()\n",
    "print(list1)\n",
    "a=list1[-2]\n",
    "print(\"second largest value:\",a)"
   ]
  },
  {
   "cell_type": "markdown",
   "id": "52a9c1e8",
   "metadata": {},
   "source": [
    "18 # CHECK EVEN NUMBER"
   ]
  },
  {
   "cell_type": "code",
   "execution_count": 17,
   "id": "ce1c0be8",
   "metadata": {},
   "outputs": [
    {
     "name": "stdout",
     "output_type": "stream",
     "text": [
      "enter a number10\n",
      "even numbers\n"
     ]
    }
   ],
   "source": [
    "a=int(input(\"enter a number\"))\n",
    "if a%2==0:\n",
    "    print(\"even numbers\")\n",
    "else:\n",
    "    print(\"no even number here\")"
   ]
  },
  {
   "cell_type": "markdown",
   "id": "a2aa371b",
   "metadata": {},
   "source": [
    "19  # CHECK ODD NUMBER"
   ]
  },
  {
   "cell_type": "code",
   "execution_count": 26,
   "id": "1b905a03",
   "metadata": {},
   "outputs": [
    {
     "name": "stdout",
     "output_type": "stream",
     "text": [
      "enter a number9\n",
      "odd number\n"
     ]
    }
   ],
   "source": [
    "a=int(input(\"enter a number\"))\n",
    "if a%2!=0:\n",
    "    print(\"odd number\")\n",
    "else:\n",
    "    print(\"no odd number herre\")"
   ]
  },
  {
   "cell_type": "markdown",
   "id": "a1b2c7ec",
   "metadata": {},
   "source": [
    "20 # PRINT EVEN NUMBER IN RANGE"
   ]
  },
  {
   "cell_type": "code",
   "execution_count": 29,
   "id": "d88cbc3f",
   "metadata": {},
   "outputs": [
    {
     "name": "stdout",
     "output_type": "stream",
     "text": [
      "enter a number till end20\n",
      "2\n",
      "4\n",
      "6\n",
      "8\n",
      "10\n",
      "12\n",
      "14\n",
      "16\n",
      "18\n",
      "20\n"
     ]
    }
   ],
   "source": [
    "a=int(input(\"enter a number till end\"))\n",
    "i=2\n",
    "for i in range (2,a+1,2):\n",
    "    print(i)"
   ]
  },
  {
   "cell_type": "markdown",
   "id": "2f5006ff",
   "metadata": {},
   "source": [
    "21 #PRINT ODD NUMBER IN RANGE"
   ]
  },
  {
   "cell_type": "code",
   "execution_count": 1,
   "id": "4d3190f9",
   "metadata": {},
   "outputs": [
    {
     "name": "stdout",
     "output_type": "stream",
     "text": [
      "enter a number till end20\n",
      "1\n",
      "3\n",
      "5\n",
      "7\n",
      "9\n",
      "11\n",
      "13\n",
      "15\n",
      "17\n",
      "19\n"
     ]
    }
   ],
   "source": [
    "a=int(input(\"enter a number till end\"))\n",
    "i=1\n",
    "for i in range(1,a,2):\n",
    "    print(i)"
   ]
  },
  {
   "cell_type": "markdown",
   "id": "89b089c8",
   "metadata": {},
   "source": [
    "22 # COUNT ODD AND EVEN NUMBER IN LIST"
   ]
  },
  {
   "cell_type": "code",
   "execution_count": 2,
   "id": "2689d0b5",
   "metadata": {},
   "outputs": [
    {
     "name": "stdout",
     "output_type": "stream",
     "text": [
      "even number in the list : 79\n",
      "odd number in the list : 5\n"
     ]
    }
   ],
   "source": [
    "l=[13,24,56,78,53,23,45,65]\n",
    "a,b=0,0\n",
    "for i in l:\n",
    "    if i%2==0:\n",
    "        a=i+1\n",
    "    else:\n",
    "        b=b+1\n",
    "print(\"even number in the list :\",a)\n",
    "print(\"odd number in the list :\",b)"
   ]
  },
  {
   "cell_type": "markdown",
   "id": "8a098a72",
   "metadata": {},
   "source": [
    "23 # PRINT POSITIVE NUMBER IN LIST"
   ]
  },
  {
   "cell_type": "code",
   "execution_count": 4,
   "id": "9aef0ab7",
   "metadata": {},
   "outputs": [
    {
     "name": "stdout",
     "output_type": "stream",
     "text": [
      "1\n",
      "2\n",
      "3\n",
      "5\n",
      "8\n"
     ]
    }
   ],
   "source": [
    "l=[1,2,3,-4,5,-6,-7,8]\n",
    "def positive_number():\n",
    "    for p in l:\n",
    "        if p>0:\n",
    "            print(p)\n",
    "positive_number()            "
   ]
  },
  {
   "cell_type": "markdown",
   "id": "d56c1a7f",
   "metadata": {},
   "source": [
    "34 # PRINT NEGATIVE NUMBER IN LIST"
   ]
  },
  {
   "cell_type": "code",
   "execution_count": 5,
   "id": "1f27e922",
   "metadata": {},
   "outputs": [
    {
     "name": "stdout",
     "output_type": "stream",
     "text": [
      "-4\n",
      "-6\n",
      "-7\n"
     ]
    }
   ],
   "source": [
    "l=[1,2,3,-4,5,-6,-7,8]\n",
    "def positive_number():\n",
    "    for p in l:\n",
    "        if p<0:\n",
    "            print(p)\n",
    "positive_number()"
   ]
  },
  {
   "cell_type": "markdown",
   "id": "181f9e04",
   "metadata": {},
   "source": [
    "25 # PRINT POSITIVE NUMBER IN RANGE"
   ]
  },
  {
   "cell_type": "code",
   "execution_count": 6,
   "id": "f3333581",
   "metadata": {},
   "outputs": [
    {
     "name": "stdout",
     "output_type": "stream",
     "text": [
      "enter a number20\n",
      "0\n",
      "2\n",
      "4\n",
      "6\n",
      "8\n",
      "10\n",
      "12\n",
      "14\n",
      "16\n",
      "18\n",
      "20\n"
     ]
    }
   ],
   "source": [
    "a=int(input(\"enter a number\"))\n",
    "def pos_num():\n",
    "    for i in range (0,a+1,2):\n",
    "        print(i)\n",
    "pos_num()        "
   ]
  },
  {
   "cell_type": "markdown",
   "id": "85cd0ad4",
   "metadata": {},
   "source": [
    "26  #  PRINT NEGATIVE NUMBER IN RANGE"
   ]
  },
  {
   "cell_type": "code",
   "execution_count": 7,
   "id": "a7b581aa",
   "metadata": {},
   "outputs": [
    {
     "name": "stdout",
     "output_type": "stream",
     "text": [
      "enter a start number-10\n",
      "enter a end number-2\n",
      "-10 -9 -8 -7 -6 -5 -4 -3 -2 "
     ]
    }
   ],
   "source": [
    "def neg_num():\n",
    "    a=int(input(\"enter a start number\"))\n",
    "    b=int(input(\"enter a end number\"))\n",
    "    for i in range (a,b+1):\n",
    "        if i<0:\n",
    "            print(i, end =\" \")\n",
    "neg_num()            "
   ]
  },
  {
   "cell_type": "markdown",
   "id": "1f2778df",
   "metadata": {},
   "source": [
    " 27 # COUNT POSITIVE AND NEGATIVE NUMBER IN LIST"
   ]
  },
  {
   "cell_type": "code",
   "execution_count": 9,
   "id": "e8c79ec9",
   "metadata": {},
   "outputs": [
    {
     "name": "stdout",
     "output_type": "stream",
     "text": [
      "4\n",
      "2\n"
     ]
    }
   ],
   "source": [
    "l=[23,-12,45,-36,43,17]\n",
    "pos_num,neg_num = 0,0\n",
    "for i in l:\n",
    "    if i>0:\n",
    "        pos_num=pos_num+1\n",
    "    else:\n",
    "        neg_num=neg_num+1\n",
    "print(pos_num)\n",
    "print(neg_num)"
   ]
  },
  {
   "cell_type": "markdown",
   "id": "956cb80d",
   "metadata": {},
   "source": [
    "28 # REMOVE MULTIPLE ELEMENTS FROM A LIST"
   ]
  },
  {
   "cell_type": "code",
   "execution_count": 10,
   "id": "5b95ea34",
   "metadata": {},
   "outputs": [
    {
     "name": "stdout",
     "output_type": "stream",
     "text": [
      "[23, 43, 23, 65, 98, 21]\n"
     ]
    }
   ],
   "source": [
    "l1=[23,45,76,43,23,65,98,21]\n",
    "del l1[1:3]\n",
    "print(l1)"
   ]
  },
  {
   "cell_type": "markdown",
   "id": "71501aa5",
   "metadata": {},
   "source": [
    "29 # REMOVE EMPTY TUPLE FROM LIST"
   ]
  },
  {
   "cell_type": "code",
   "execution_count": 14,
   "id": "b4d27413",
   "metadata": {},
   "outputs": [
    {
     "name": "stdout",
     "output_type": "stream",
     "text": [
      "[(45, 43), ('aditya', 'sourabh')]\n"
     ]
    }
   ],
   "source": [
    "list=[(),(45,43),(\"aditya\",\"sourabh\"),()]\n",
    "def remove_tup(tuple):\n",
    "    for i in list:\n",
    "        if (len(i)==0):\n",
    "            list.remove(i)\n",
    "    return list\n",
    "remove_tup(list)\n",
    "print(list)"
   ]
  },
  {
   "cell_type": "markdown",
   "id": "861842a9",
   "metadata": {},
   "source": [
    "30 # PRINT DUPLICATE IN A LIST"
   ]
  },
  {
   "cell_type": "code",
   "execution_count": 17,
   "id": "3581cbe0",
   "metadata": {},
   "outputs": [
    {
     "name": "stdout",
     "output_type": "stream",
     "text": [
      "[1, 2, 6, 7, 9]\n"
     ]
    }
   ],
   "source": [
    "list=[1,2,1,1,1,2,3,2,2,4,5,6,7,7,7,8,9,9,9,6,6,]\n",
    "new_list=[]\n",
    "for i in list:\n",
    "    n=list.count(i)\n",
    "    if n>1:\n",
    "        if new_list.count(i)==0:\n",
    "            new_list.append(i)\n",
    "print(new_list)            "
   ]
  },
  {
   "cell_type": "code",
   "execution_count": null,
   "id": "a5142247",
   "metadata": {},
   "outputs": [],
   "source": []
  }
 ],
 "metadata": {
  "kernelspec": {
   "display_name": "Python 3 (ipykernel)",
   "language": "python",
   "name": "python3"
  },
  "language_info": {
   "codemirror_mode": {
    "name": "ipython",
    "version": 3
   },
   "file_extension": ".py",
   "mimetype": "text/x-python",
   "name": "python",
   "nbconvert_exporter": "python",
   "pygments_lexer": "ipython3",
   "version": "3.11.4"
  }
 },
 "nbformat": 4,
 "nbformat_minor": 5
}
